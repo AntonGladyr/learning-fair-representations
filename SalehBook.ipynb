{
 "cells": [
  {
   "cell_type": "code",
   "execution_count": 1,
   "metadata": {},
   "outputs": [],
   "source": [
    "from helpers import *\n",
    "\n",
    "import numpy as np\n",
    "import pandas as pd\n",
    "import matplotlib.pyplot as plt\n",
    "from sklearn.model_selection import train_test_split\n",
    "from sklearn import preprocessing\n",
    "from sklearn import model_selection\n",
    "from sklearn.metrics import accuracy_score\n",
    "\n",
    "from sklearn.linear_model import LogisticRegression\n",
    "from sklearn.ensemble import RandomForestClassifier\n",
    "from sklearn.neural_network import MLPClassifier\n",
    "from sklearn.naive_bayes import GaussianNB\n",
    "from sklearn.tree import DecisionTreeClassifier\n",
    "from sklearn.svm import SVC"
   ]
  },
  {
   "cell_type": "markdown",
   "metadata": {},
   "source": [
    "# Run Helper"
   ]
  },
  {
   "cell_type": "code",
   "execution_count": 2,
   "metadata": {},
   "outputs": [],
   "source": [
    "def run(X, y, X_test, y_test, test_split=0.3):\n",
    "    kfold = model_selection.KFold(n_splits=5, random_state=7)\n",
    "    for i, model in enumerate(models):\n",
    "        cv_result = model_selection.cross_val_score(model, X, y, cv=kfold, scoring='accuracy')\n",
    "\n",
    "        model.fit(X, y)\n",
    "        prediction_test = model.predict(X_test)\n",
    "\n",
    "        acc_score_val = np.mean(cv_result)\n",
    "        acc_score_test = accuracy_score(y_test, prediction_test)\n",
    "        print ('-'*40)\n",
    "        print ('val: {0}: {1}'.format(names[i], acc_score_val))\n",
    "        print ('test: {0}: {1}'.format(names[i], acc_score_test))"
   ]
  },
  {
   "cell_type": "markdown",
   "metadata": {},
   "source": [
    "# Models to Run"
   ]
  },
  {
   "cell_type": "code",
   "execution_count": 3,
   "metadata": {},
   "outputs": [],
   "source": [
    "models = []\n",
    "names = ['LR']#, 'Random Forest', 'Neural Network', 'GaussianNB', 'DecisionTreeClassifier', 'SVM']\n",
    "\n",
    "models.append((LogisticRegression(solver='lbfgs', max_iter=1000)))\n",
    "# models.append((RandomForestClassifier(n_estimators=100)))\n",
    "# models.append((MLPClassifier()))\n",
    "# models.append((GaussianNB()))\n",
    "# models.append((DecisionTreeClassifier()))\n",
    "# models.append((SVC()))"
   ]
  },
  {
   "cell_type": "markdown",
   "metadata": {},
   "source": [
    "# Adult Dataset"
   ]
  },
  {
   "cell_type": "code",
   "execution_count": 4,
   "metadata": {},
   "outputs": [
    {
     "name": "stdout",
     "output_type": "stream",
     "text": [
      "percentage of corrupt rows in training: 7.4%\n",
      "percentage of corrupt rows in testing: 7.5%\n"
     ]
    }
   ],
   "source": [
    "df_adult, pct = load_adult('datasets/adult/adult.data')\n",
    "X_adult = df_adult.iloc[:, :-1]\n",
    "y_adult = df_adult.iloc[:, -1]\n",
    "print('percentage of corrupt rows in training: {0:.1f}%'.format((1-pct)*100))\n",
    "\n",
    "df_adult_test, pct = load_adult('datasets/adult/adult.test')\n",
    "X_adult_test = df_adult_test.iloc[:, :-1]\n",
    "y_adult_test = df_adult_test.iloc[:, -1]\n",
    "print('percentage of corrupt rows in testing: {0:.1f}%'.format((1-pct)*100))"
   ]
  },
  {
   "cell_type": "code",
   "execution_count": 5,
   "metadata": {},
   "outputs": [],
   "source": [
    "# X_age = pd.get_dummies(X_adult['age'])\n",
    "# X_age.head()"
   ]
  },
  {
   "cell_type": "code",
   "execution_count": 6,
   "metadata": {},
   "outputs": [],
   "source": [
    "# X_age = X_age.join(y_adult)\n",
    "# X_age.head()"
   ]
  },
  {
   "cell_type": "code",
   "execution_count": 7,
   "metadata": {},
   "outputs": [],
   "source": [
    "# ll = {}\n",
    "# ll_ptr = []\n",
    "# for _, col in enumerate(X_age):\n",
    "#     if col != 'salary':\n",
    "#         n_bad = len(X_age[(X_age[col] == 1) & (X_age['salary'] == 0)])\n",
    "#         n_good = len(X_age[(X_age[col] == 1) & (X_age['salary'] == 1)])\n",
    "#         ll[col] = {'bad': n_bad, 'good': n_good}\n",
    "        \n",
    "#         ll_ptr.append(n_bad/(n_bad + n_good))\n",
    "\n",
    "# plt.hist(ll_ptr, bins=None, density=True, normed=None, histtype='bar')\n",
    "# plt.show()"
   ]
  },
  {
   "cell_type": "markdown",
   "metadata": {},
   "source": [
    "# expanding"
   ]
  },
  {
   "cell_type": "code",
   "execution_count": 8,
   "metadata": {},
   "outputs": [],
   "source": [
    "# X_expanded = pd.get_dummies(X_adult)\n",
    "# X_expanded_test = pd.get_dummies(X_adult_test)\n",
    "# run(X_expanded, y_adult, X_expanded_test, y_adult_test)"
   ]
  },
  {
   "cell_type": "markdown",
   "metadata": {},
   "source": [
    "# LabelEncoder"
   ]
  },
  {
   "cell_type": "code",
   "execution_count": 9,
   "metadata": {},
   "outputs": [],
   "source": [
    "encoders = {\"workclass\": preprocessing.LabelEncoder(), \n",
    "            \"education\": preprocessing.LabelEncoder(), \n",
    "            \"marital-status\": preprocessing.LabelEncoder(), \n",
    "            \"occupation\": preprocessing.LabelEncoder(), \n",
    "            \"relationship\": preprocessing.LabelEncoder(), \n",
    "            \"race\": preprocessing.LabelEncoder(), \n",
    "            \"native-country\": preprocessing.LabelEncoder()}\n",
    "\n",
    "X_encoded = encode(X_adult, encoders)\n",
    "X_encoded_test = encode(X_adult_test, encoders)"
   ]
  },
  {
   "cell_type": "code",
   "execution_count": 10,
   "metadata": {},
   "outputs": [
    {
     "name": "stdout",
     "output_type": "stream",
     "text": [
      "----------------------------------------\n",
      "val: LR: 0.7845302702949868\n",
      "test: LR: 0.7835989375830014\n"
     ]
    }
   ],
   "source": [
    "run(X_encoded, y_adult, X_encoded_test, y_adult_test)"
   ]
  },
  {
   "cell_type": "markdown",
   "metadata": {},
   "source": [
    "# German Dataset"
   ]
  },
  {
   "cell_type": "code",
   "execution_count": 11,
   "metadata": {},
   "outputs": [],
   "source": [
    "# load german dataset\n",
    "df_german = load_german('datasets/german/german.data-numeric')\n",
    "X_german = df_german.iloc[:, :-1]\n",
    "y_german = df_german.iloc[:, -1]\n",
    "\n",
    "X_train, X_test, y_train, y_test = train_test_split(X_german, y_german, test_size=0.2, random_state=0)"
   ]
  },
  {
   "cell_type": "code",
   "execution_count": 12,
   "metadata": {},
   "outputs": [
    {
     "name": "stdout",
     "output_type": "stream",
     "text": [
      "----------------------------------------\n",
      "val: LR: 0.77\n",
      "test: LR: 0.765\n"
     ]
    }
   ],
   "source": [
    "run(X_train, y_train, X_test, y_test)"
   ]
  },
  {
   "cell_type": "markdown",
   "metadata": {},
   "source": [
    "# Discrimination"
   ]
  },
  {
   "cell_type": "code",
   "execution_count": 13,
   "metadata": {},
   "outputs": [],
   "source": [
    "# SA = 'Age'\n",
    "# s = 'Young'\n",
    "# positive = 0\n",
    "\n",
    "# X_german_s = X_german.copy()\n",
    "# X_german_s[X_german_s['Age'] <= 25] = 1 # protected\n",
    "# X_german_s[X_german_s['Age'] > 25] = 0 # not protected\n",
    "\n",
    "# conf_aged = 0\n",
    "# conf_young = 0\n",
    "# for index, p in enumerate(y_german):\n",
    "#     if p == positive:\n",
    "#         if X_german_s.loc[index, 'Age'] == 0:\n",
    "#             conf_aged += 1\n",
    "#         else: # X_german_s.loc[index, 'Age'] == 1 (i.e. protected)\n",
    "#             conf_young += 1\n",
    "\n",
    "# conf_aged /= len(X_german_s[X_german_s['Age'] == 0])\n",
    "# conf_young /= len(X_german_s[X_german_s['Age'] == 1])\n",
    "# print(conf_aged, conf_young)\n",
    "# print('DISC = {0:.4f}'.format(conf_aged - conf_young))"
   ]
  },
  {
   "cell_type": "code",
   "execution_count": 14,
   "metadata": {},
   "outputs": [],
   "source": [
    "# SA = 'Age'\n",
    "# s = 'Young'\n",
    "# positive = 0\n",
    "\n",
    "# X_german_s = X_german.copy()\n",
    "# X_german_s[X_german_s['Age'] <= 25] = 1 # protected\n",
    "# X_german_s[X_german_s['Age'] > 25] = 0 # not protected\n",
    "\n",
    "# X_train, X_test, y_train, y_test = train_test_split(X_german_s, y_german, test_size=0.3, random_state=42)\n",
    "\n",
    "# lr = LogisticRegression()\n",
    "# lr.fit(X_train, y_train)\n",
    "# pred = lr.predict(X_test)\n",
    "\n",
    "# conf_aged = 0\n",
    "# conf_young = 0\n",
    "# for index, p in enumerate(pred):\n",
    "#     if p == positive:\n",
    "#         if X_german_s.loc[index, 'Age'] == 0:\n",
    "#             conf_aged += 1\n",
    "#         else: # X_german_s.loc[index, 'Age'] == 1 (i.e. protected)\n",
    "#             conf_young += 1\n",
    "\n",
    "# conf_aged /= len(X_german_s[X_german_s['Age'] == 0])\n",
    "# conf_young /= len(X_german_s[X_german_s['Age'] == 1])\n",
    "# print(conf_aged, conf_young)\n",
    "# print('DISC = {0:.4f}'.format(conf_aged - conf_young))"
   ]
  }
 ],
 "metadata": {
  "kernelspec": {
   "display_name": "Python 3",
   "language": "python",
   "name": "python3"
  },
  "language_info": {
   "codemirror_mode": {
    "name": "ipython",
    "version": 3
   },
   "file_extension": ".py",
   "mimetype": "text/x-python",
   "name": "python",
   "nbconvert_exporter": "python",
   "pygments_lexer": "ipython3",
   "version": "3.6.9"
  }
 },
 "nbformat": 4,
 "nbformat_minor": 2
}
